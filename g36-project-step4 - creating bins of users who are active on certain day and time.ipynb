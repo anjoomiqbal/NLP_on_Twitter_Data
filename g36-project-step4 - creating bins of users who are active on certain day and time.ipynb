{
 "cells": [
  {
   "cell_type": "markdown",
   "metadata": {},
   "source": [
    "### Library Imports"
   ]
  },
  {
   "cell_type": "code",
   "execution_count": 74,
   "metadata": {},
   "outputs": [],
   "source": [
    "import pandas as pd\n",
    "import numpy as np\n",
    "import os"
   ]
  },
  {
   "cell_type": "markdown",
   "metadata": {},
   "source": [
    "### Input File"
   ]
  },
  {
   "cell_type": "code",
   "execution_count": 75,
   "metadata": {},
   "outputs": [
    {
     "data": {
      "text/html": [
       "<div>\n",
       "<style scoped>\n",
       "    .dataframe tbody tr th:only-of-type {\n",
       "        vertical-align: middle;\n",
       "    }\n",
       "\n",
       "    .dataframe tbody tr th {\n",
       "        vertical-align: top;\n",
       "    }\n",
       "\n",
       "    .dataframe thead th {\n",
       "        text-align: right;\n",
       "    }\n",
       "</style>\n",
       "<table border=\"1\" class=\"dataframe\">\n",
       "  <thead>\n",
       "    <tr style=\"text-align: right;\">\n",
       "      <th></th>\n",
       "      <th>user_count</th>\n",
       "      <th>userid</th>\n",
       "      <th>total_tweets_by_a_user</th>\n",
       "      <th>day_mon</th>\n",
       "      <th>day_tue</th>\n",
       "      <th>day_wed</th>\n",
       "      <th>day_thu</th>\n",
       "      <th>day_fri</th>\n",
       "      <th>day_sat</th>\n",
       "      <th>day_sun</th>\n",
       "      <th>time_night_1</th>\n",
       "      <th>time_night_2</th>\n",
       "      <th>time_morning_1</th>\n",
       "      <th>time_morning_2</th>\n",
       "      <th>time_afternoon_1</th>\n",
       "      <th>time_afternoon_2</th>\n",
       "      <th>time_evening_1</th>\n",
       "      <th>time_evening_2</th>\n",
       "    </tr>\n",
       "  </thead>\n",
       "  <tbody>\n",
       "    <tr>\n",
       "      <th>0</th>\n",
       "      <td>0</td>\n",
       "      <td>0utoftime</td>\n",
       "      <td>1533</td>\n",
       "      <td>0.095238</td>\n",
       "      <td>0.114808</td>\n",
       "      <td>0.133725</td>\n",
       "      <td>0.151337</td>\n",
       "      <td>0.193738</td>\n",
       "      <td>0.152642</td>\n",
       "      <td>0.158513</td>\n",
       "      <td>0.290280</td>\n",
       "      <td>0.0</td>\n",
       "      <td>0.0</td>\n",
       "      <td>0.020222</td>\n",
       "      <td>0.131768</td>\n",
       "      <td>0.193738</td>\n",
       "      <td>0.184605</td>\n",
       "      <td>0.179387</td>\n",
       "    </tr>\n",
       "    <tr>\n",
       "      <th>1</th>\n",
       "      <td>1</td>\n",
       "      <td>1LX</td>\n",
       "      <td>3144</td>\n",
       "      <td>0.111641</td>\n",
       "      <td>0.125000</td>\n",
       "      <td>0.148219</td>\n",
       "      <td>0.157761</td>\n",
       "      <td>0.154262</td>\n",
       "      <td>0.171438</td>\n",
       "      <td>0.131679</td>\n",
       "      <td>0.256679</td>\n",
       "      <td>0.0</td>\n",
       "      <td>0.0</td>\n",
       "      <td>0.027036</td>\n",
       "      <td>0.093830</td>\n",
       "      <td>0.159669</td>\n",
       "      <td>0.199109</td>\n",
       "      <td>0.263677</td>\n",
       "    </tr>\n",
       "    <tr>\n",
       "      <th>2</th>\n",
       "      <td>2</td>\n",
       "      <td>4chewnahdoe</td>\n",
       "      <td>3172</td>\n",
       "      <td>0.127364</td>\n",
       "      <td>0.164880</td>\n",
       "      <td>0.141866</td>\n",
       "      <td>0.222888</td>\n",
       "      <td>0.126734</td>\n",
       "      <td>0.108764</td>\n",
       "      <td>0.107503</td>\n",
       "      <td>0.520492</td>\n",
       "      <td>0.0</td>\n",
       "      <td>0.0</td>\n",
       "      <td>0.004098</td>\n",
       "      <td>0.038462</td>\n",
       "      <td>0.171501</td>\n",
       "      <td>0.128310</td>\n",
       "      <td>0.137137</td>\n",
       "    </tr>\n",
       "    <tr>\n",
       "      <th>3</th>\n",
       "      <td>3</td>\n",
       "      <td>4sqOvershare</td>\n",
       "      <td>992</td>\n",
       "      <td>0.118952</td>\n",
       "      <td>0.107863</td>\n",
       "      <td>0.197581</td>\n",
       "      <td>0.177419</td>\n",
       "      <td>0.198589</td>\n",
       "      <td>0.133065</td>\n",
       "      <td>0.066532</td>\n",
       "      <td>0.180444</td>\n",
       "      <td>0.0</td>\n",
       "      <td>0.0</td>\n",
       "      <td>0.036290</td>\n",
       "      <td>0.225806</td>\n",
       "      <td>0.245968</td>\n",
       "      <td>0.179435</td>\n",
       "      <td>0.132056</td>\n",
       "    </tr>\n",
       "    <tr>\n",
       "      <th>4</th>\n",
       "      <td>4</td>\n",
       "      <td>909kishore</td>\n",
       "      <td>922</td>\n",
       "      <td>0.113883</td>\n",
       "      <td>0.164859</td>\n",
       "      <td>0.180043</td>\n",
       "      <td>0.191974</td>\n",
       "      <td>0.181128</td>\n",
       "      <td>0.098698</td>\n",
       "      <td>0.069414</td>\n",
       "      <td>0.305857</td>\n",
       "      <td>0.0</td>\n",
       "      <td>0.0</td>\n",
       "      <td>0.009761</td>\n",
       "      <td>0.073753</td>\n",
       "      <td>0.260304</td>\n",
       "      <td>0.203905</td>\n",
       "      <td>0.146421</td>\n",
       "    </tr>\n",
       "  </tbody>\n",
       "</table>\n",
       "</div>"
      ],
      "text/plain": [
       "   user_count        userid  total_tweets_by_a_user   day_mon   day_tue  \\\n",
       "0           0     0utoftime                    1533  0.095238  0.114808   \n",
       "1           1           1LX                    3144  0.111641  0.125000   \n",
       "2           2   4chewnahdoe                    3172  0.127364  0.164880   \n",
       "3           3  4sqOvershare                     992  0.118952  0.107863   \n",
       "4           4    909kishore                     922  0.113883  0.164859   \n",
       "\n",
       "    day_wed   day_thu   day_fri   day_sat   day_sun  time_night_1  \\\n",
       "0  0.133725  0.151337  0.193738  0.152642  0.158513      0.290280   \n",
       "1  0.148219  0.157761  0.154262  0.171438  0.131679      0.256679   \n",
       "2  0.141866  0.222888  0.126734  0.108764  0.107503      0.520492   \n",
       "3  0.197581  0.177419  0.198589  0.133065  0.066532      0.180444   \n",
       "4  0.180043  0.191974  0.181128  0.098698  0.069414      0.305857   \n",
       "\n",
       "   time_night_2  time_morning_1  time_morning_2  time_afternoon_1  \\\n",
       "0           0.0             0.0        0.020222          0.131768   \n",
       "1           0.0             0.0        0.027036          0.093830   \n",
       "2           0.0             0.0        0.004098          0.038462   \n",
       "3           0.0             0.0        0.036290          0.225806   \n",
       "4           0.0             0.0        0.009761          0.073753   \n",
       "\n",
       "   time_afternoon_2  time_evening_1  time_evening_2  \n",
       "0          0.193738        0.184605        0.179387  \n",
       "1          0.159669        0.199109        0.263677  \n",
       "2          0.171501        0.128310        0.137137  \n",
       "3          0.245968        0.179435        0.132056  \n",
       "4          0.260304        0.203905        0.146421  "
      ]
     },
     "execution_count": 75,
     "metadata": {},
     "output_type": "execute_result"
    }
   ],
   "source": [
    "input_file_path = \"twitter_user_analytics_normalized.csv\"\n",
    "df_i = pd.read_csv(input_file_path)\n",
    "df_i.head() # DEBUG"
   ]
  },
  {
   "cell_type": "markdown",
   "metadata": {},
   "source": [
    "#### Creating empty lists for the users"
   ]
  },
  {
   "cell_type": "code",
   "execution_count": 76,
   "metadata": {},
   "outputs": [],
   "source": [
    "Mon = []\n",
    "Tue = []\n",
    "Wed = []\n",
    "Thu = []\n",
    "Fri = []\n",
    "Sat = []\n",
    "Sun = []\n",
    "night_1 = []\n",
    "night_2 = []\n",
    "morning_1 = []\n",
    "morning_2 = []\n",
    "afternoon_1 = []\n",
    "afternoon_2 = []\n",
    "evening_1 = []\n",
    "evening_2 = []"
   ]
  },
  {
   "cell_type": "markdown",
   "metadata": {},
   "source": [
    "### Finding lists of users who tweet the most on certain day of the week <br>\n",
    "We find the day on which a specific user tweets the most and then add that userid to the list of users who are most likely to be using Twitter on that day.<br>\n",
    "### Finding lists of users who tweet the most on certain time of the day <br>\n",
    "Similarly, we find the time window on which a specific user tweets the most and then add that userid to the list of users who are most likely to be using Twitter on that time window."
   ]
  },
  {
   "cell_type": "code",
   "execution_count": 77,
   "metadata": {},
   "outputs": [],
   "source": [
    "for idx, row in df_i.iterrows():\n",
    "    userid = row['userid']\n",
    "#     print(row) # DEBUG\n",
    "    row.drop(['user_count', 'userid', 'total_tweets_by_a_user'], axis=0, inplace=True)\n",
    "#     print(row) # DEBUG\n",
    "\n",
    "    row = row.values\n",
    "    row = row*100\n",
    "    y_days = row[0:7]\n",
    "    y_time = row[7:]\n",
    "    max_used_day_idx  = y_days.argmax()\n",
    "    max_used_time_idx = y_time.argmax()\n",
    "#     print (y_days.max()) # DEBUG\n",
    "#     print (max_used_day_idx) # DEBUG\n",
    "#     print (y_time.max()) # DEBUG\n",
    "#     print (max_used_time_idx)  # DEBUG\n",
    "    \n",
    "    if   max_used_day_idx == 0: Mon.append(userid)\n",
    "    elif max_used_day_idx == 1: Tue.append(userid)\n",
    "    elif max_used_day_idx == 2: Wed.append(userid)\n",
    "    elif max_used_day_idx == 3: Thu.append(userid)\n",
    "    elif max_used_day_idx == 4: Fri.append(userid)\n",
    "    elif max_used_day_idx == 5: Sat.append(userid)\n",
    "    elif max_used_day_idx == 6: Sun.append(userid)\n",
    "        \n",
    "    if   max_used_time_idx == 0: night_1.append(userid)\n",
    "    elif max_used_time_idx == 1: night_2.append(userid)\n",
    "    elif max_used_time_idx == 2: morning_1.append(userid)\n",
    "    elif max_used_time_idx == 3: morning_2.append(userid)\n",
    "    elif max_used_time_idx == 4: afternoon_1.append(userid)\n",
    "    elif max_used_time_idx == 5: afternoon_2.append(userid)\n",
    "    elif max_used_time_idx == 6: evening_1.append(userid)\n",
    "    elif max_used_time_idx == 7: evening_2.append(userid)\n",
    "    \n",
    "#     if idx == 0: # DEBUG\n",
    "#         break # DEBUG"
   ]
  },
  {
   "cell_type": "markdown",
   "metadata": {},
   "source": [
    "# Output 7 csv files with most likely users of each day of the week"
   ]
  },
  {
   "cell_type": "code",
   "execution_count": 78,
   "metadata": {},
   "outputs": [],
   "source": [
    "df_o = pd.DataFrame({'Mon_userid': Mon})\n",
    "output_file_path = \"users_with_max_tweet_on_Mon.csv\"\n",
    "\n",
    "# removing old outout file if exists\n",
    "if os.path.exists(output_file_path): \n",
    "    os.remove(output_file_path)\n",
    "\n",
    "# writing to csv\n",
    "df_o.to_csv(output_file_path, sep=',', index=True, index_label=\"count\")"
   ]
  },
  {
   "cell_type": "code",
   "execution_count": 79,
   "metadata": {},
   "outputs": [],
   "source": [
    "df_o = pd.DataFrame({'Tue_userid': Tue})\n",
    "output_file_path = \"users_with_max_tweet_on_Tue.csv\"\n",
    "\n",
    "# removing old outout file if exists\n",
    "if os.path.exists(output_file_path): \n",
    "    os.remove(output_file_path)\n",
    "\n",
    "# writing to csv\n",
    "df_o.to_csv(output_file_path, sep=',', index=True, index_label=\"count\")"
   ]
  },
  {
   "cell_type": "code",
   "execution_count": 80,
   "metadata": {},
   "outputs": [],
   "source": [
    "df_o = pd.DataFrame({'Wed_userid': Wed})\n",
    "output_file_path = \"users_with_max_tweet_on_Wed.csv\"\n",
    "\n",
    "# removing old outout file if exists\n",
    "if os.path.exists(output_file_path): \n",
    "    os.remove(output_file_path)\n",
    "\n",
    "# writing to csv\n",
    "df_o.to_csv(output_file_path, sep=',', index=True, index_label=\"count\")"
   ]
  },
  {
   "cell_type": "code",
   "execution_count": 81,
   "metadata": {},
   "outputs": [],
   "source": [
    "df_o = pd.DataFrame({'Thu_userid': Thu})\n",
    "output_file_path = \"users_with_max_tweet_on_Thu.csv\"\n",
    "\n",
    "# removing old outout file if exists\n",
    "if os.path.exists(output_file_path): \n",
    "    os.remove(output_file_path)\n",
    "\n",
    "# writing to csv\n",
    "df_o.to_csv(output_file_path, sep=',', index=True, index_label=\"count\")"
   ]
  },
  {
   "cell_type": "code",
   "execution_count": 82,
   "metadata": {},
   "outputs": [],
   "source": [
    "df_o = pd.DataFrame({'Fri_userid': Fri})\n",
    "output_file_path = \"users_with_max_tweet_on_Fri.csv\"\n",
    "\n",
    "# removing old outout file if exists\n",
    "if os.path.exists(output_file_path): \n",
    "    os.remove(output_file_path)\n",
    "\n",
    "# writing to csv\n",
    "df_o.to_csv(output_file_path, sep=',', index=True, index_label=\"count\")"
   ]
  },
  {
   "cell_type": "code",
   "execution_count": 83,
   "metadata": {},
   "outputs": [],
   "source": [
    "df_o = pd.DataFrame({'Sat_userid': Sat})\n",
    "output_file_path = \"users_with_max_tweet_on_Sat.csv\"\n",
    "\n",
    "# removing old outout file if exists\n",
    "if os.path.exists(output_file_path): \n",
    "    os.remove(output_file_path)\n",
    "\n",
    "# writing to csv\n",
    "df_o.to_csv(output_file_path, sep=',', index=True, index_label=\"count\")"
   ]
  },
  {
   "cell_type": "code",
   "execution_count": 84,
   "metadata": {},
   "outputs": [],
   "source": [
    "df_o = pd.DataFrame({'Sun_userid': Sun})\n",
    "output_file_path = \"users_with_max_tweet_on_Sun.csv\"\n",
    "\n",
    "# removing old outout file if exists\n",
    "if os.path.exists(output_file_path): \n",
    "    os.remove(output_file_path)\n",
    "\n",
    "# writing to csv\n",
    "df_o.to_csv(output_file_path, sep=',', index=True, index_label=\"count\")"
   ]
  },
  {
   "cell_type": "markdown",
   "metadata": {},
   "source": [
    "# Outout 8 CSV files with most likely users of certain time window of the day"
   ]
  },
  {
   "cell_type": "code",
   "execution_count": 85,
   "metadata": {},
   "outputs": [],
   "source": [
    "df_o = pd.DataFrame({'userid_0000_0259': night_1})\n",
    "output_file_path = \"users_with_max_tweet_between_0000_0259.csv\"\n",
    "\n",
    "# removing old outout file if exists\n",
    "if os.path.exists(output_file_path): \n",
    "    os.remove(output_file_path)\n",
    "\n",
    "# writing to csv\n",
    "df_o.to_csv(output_file_path, sep=',', index=True, index_label=\"count\")"
   ]
  },
  {
   "cell_type": "code",
   "execution_count": 86,
   "metadata": {},
   "outputs": [],
   "source": [
    "df_o = pd.DataFrame({'userid_0300_0559': night_2})\n",
    "output_file_path = \"users_with_max_tweet_between_0300_0559.csv\"\n",
    "\n",
    "# removing old outout file if exists\n",
    "if os.path.exists(output_file_path): \n",
    "    os.remove(output_file_path)\n",
    "\n",
    "# writing to csv\n",
    "df_o.to_csv(output_file_path, sep=',', index=True, index_label=\"count\")"
   ]
  },
  {
   "cell_type": "code",
   "execution_count": 87,
   "metadata": {},
   "outputs": [],
   "source": [
    "df_o = pd.DataFrame({'userid_0600_0859': morning_1})\n",
    "output_file_path = \"users_with_max_tweet_between_0600_0859.csv\"\n",
    "\n",
    "# removing old outout file if exists\n",
    "if os.path.exists(output_file_path): \n",
    "    os.remove(output_file_path)\n",
    "\n",
    "# writing to csv\n",
    "df_o.to_csv(output_file_path, sep=',', index=True, index_label=\"count\")"
   ]
  },
  {
   "cell_type": "code",
   "execution_count": 88,
   "metadata": {},
   "outputs": [],
   "source": [
    "df_o = pd.DataFrame({'userid_0900_1159': morning_2})\n",
    "output_file_path = \"users_with_max_tweet_between_0900_1159.csv\"\n",
    "\n",
    "# removing old outout file if exists\n",
    "if os.path.exists(output_file_path): \n",
    "    os.remove(output_file_path)\n",
    "\n",
    "# writing to csv\n",
    "df_o.to_csv(output_file_path, sep=',', index=True, index_label=\"count\")"
   ]
  },
  {
   "cell_type": "code",
   "execution_count": 89,
   "metadata": {},
   "outputs": [],
   "source": [
    "df_o = pd.DataFrame({'userid_1200_1459': afternoon_1})\n",
    "output_file_path = \"users_with_max_tweet_between_1200_1459.csv\"\n",
    "\n",
    "# removing old outout file if exists\n",
    "if os.path.exists(output_file_path): \n",
    "    os.remove(output_file_path)\n",
    "\n",
    "# writing to csv\n",
    "df_o.to_csv(output_file_path, sep=',', index=True, index_label=\"count\")"
   ]
  },
  {
   "cell_type": "code",
   "execution_count": 90,
   "metadata": {},
   "outputs": [],
   "source": [
    "df_o = pd.DataFrame({'userid_1500_1759': afternoon_2})\n",
    "output_file_path = \"users_with_max_tweet_between_1500_1759.csv\"\n",
    "\n",
    "# removing old outout file if exists\n",
    "if os.path.exists(output_file_path): \n",
    "    os.remove(output_file_path)\n",
    "\n",
    "# writing to csv\n",
    "df_o.to_csv(output_file_path, sep=',', index=True, index_label=\"count\")"
   ]
  },
  {
   "cell_type": "code",
   "execution_count": 91,
   "metadata": {},
   "outputs": [],
   "source": [
    "df_o = pd.DataFrame({'userid_1800_2059': evening_1})\n",
    "output_file_path = \"users_with_max_tweet_between_1800_2059.csv\"\n",
    "\n",
    "# removing old outout file if exists\n",
    "if os.path.exists(output_file_path): \n",
    "    os.remove(output_file_path)\n",
    "\n",
    "# writing to csv\n",
    "df_o.to_csv(output_file_path, sep=',', index=True, index_label=\"count\")"
   ]
  },
  {
   "cell_type": "code",
   "execution_count": 92,
   "metadata": {},
   "outputs": [],
   "source": [
    "df_o = pd.DataFrame({'userid_2100_2359': evening_2})\n",
    "output_file_path = \"users_with_max_tweet_between_2100_2359.csv\"\n",
    "\n",
    "# removing old outout file if exists\n",
    "if os.path.exists(output_file_path): \n",
    "    os.remove(output_file_path)\n",
    "\n",
    "# writing to csv\n",
    "df_o.to_csv(output_file_path, sep=',', index=True, index_label=\"count\")"
   ]
  }
 ],
 "metadata": {
  "kernelspec": {
   "display_name": "Python 3",
   "language": "python",
   "name": "python3"
  },
  "language_info": {
   "codemirror_mode": {
    "name": "ipython",
    "version": 3
   },
   "file_extension": ".py",
   "mimetype": "text/x-python",
   "name": "python",
   "nbconvert_exporter": "python",
   "pygments_lexer": "ipython3",
   "version": "3.7.1"
  }
 },
 "nbformat": 4,
 "nbformat_minor": 2
}
