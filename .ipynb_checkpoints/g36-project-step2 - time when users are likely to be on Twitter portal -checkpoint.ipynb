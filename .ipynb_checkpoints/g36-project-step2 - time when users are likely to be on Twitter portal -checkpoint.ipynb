{
 "cells": [
  {
   "cell_type": "markdown",
   "metadata": {},
   "source": [
    "# Step 2 \n",
    "#### time when users are likely to be on Twitter portal "
   ]
  },
  {
   "cell_type": "markdown",
   "metadata": {},
   "source": [
    "### Library Imports"
   ]
  },
  {
   "cell_type": "code",
   "execution_count": 63,
   "metadata": {},
   "outputs": [],
   "source": [
    "import pandas as pd\n",
    "import time"
   ]
  },
  {
   "cell_type": "markdown",
   "metadata": {},
   "source": [
    "### Input File"
   ]
  },
  {
   "cell_type": "code",
   "execution_count": 64,
   "metadata": {},
   "outputs": [
    {
     "data": {
      "text/html": [
       "<div>\n",
       "<style scoped>\n",
       "    .dataframe tbody tr th:only-of-type {\n",
       "        vertical-align: middle;\n",
       "    }\n",
       "\n",
       "    .dataframe tbody tr th {\n",
       "        vertical-align: top;\n",
       "    }\n",
       "\n",
       "    .dataframe thead th {\n",
       "        text-align: right;\n",
       "    }\n",
       "</style>\n",
       "<table border=\"1\" class=\"dataframe\">\n",
       "  <thead>\n",
       "    <tr style=\"text-align: right;\">\n",
       "      <th></th>\n",
       "      <th>tweetcount_by_all_users</th>\n",
       "      <th>userid</th>\n",
       "      <th>total_tweets_by_a_user</th>\n",
       "      <th>tweetid</th>\n",
       "      <th>day_of_week</th>\n",
       "      <th>month</th>\n",
       "      <th>day</th>\n",
       "      <th>hour</th>\n",
       "      <th>minute</th>\n",
       "      <th>second</th>\n",
       "      <th>time_correction</th>\n",
       "      <th>year</th>\n",
       "      <th>tweet</th>\n",
       "    </tr>\n",
       "  </thead>\n",
       "  <tbody>\n",
       "    <tr>\n",
       "      <th>0</th>\n",
       "      <td>0</td>\n",
       "      <td>0utoftime</td>\n",
       "      <td>1533</td>\n",
       "      <td>669678001865510912</td>\n",
       "      <td>Thu</td>\n",
       "      <td>Nov</td>\n",
       "      <td>26</td>\n",
       "      <td>0</td>\n",
       "      <td>44</td>\n",
       "      <td>12</td>\n",
       "      <td>0</td>\n",
       "      <td>2015</td>\n",
       "      <td>@danielhberger or john oliver now that obama h...</td>\n",
       "    </tr>\n",
       "    <tr>\n",
       "      <th>1</th>\n",
       "      <td>1</td>\n",
       "      <td>0utoftime</td>\n",
       "      <td>1533</td>\n",
       "      <td>669677485240541184</td>\n",
       "      <td>Thu</td>\n",
       "      <td>Nov</td>\n",
       "      <td>26</td>\n",
       "      <td>0</td>\n",
       "      <td>42</td>\n",
       "      <td>9</td>\n",
       "      <td>0</td>\n",
       "      <td>2015</td>\n",
       "      <td>@wiz_teresa international phonetic alphabet</td>\n",
       "    </tr>\n",
       "    <tr>\n",
       "      <th>2</th>\n",
       "      <td>2</td>\n",
       "      <td>0utoftime</td>\n",
       "      <td>1533</td>\n",
       "      <td>669224460260651008</td>\n",
       "      <td>Tue</td>\n",
       "      <td>Nov</td>\n",
       "      <td>24</td>\n",
       "      <td>18</td>\n",
       "      <td>41</td>\n",
       "      <td>59</td>\n",
       "      <td>0</td>\n",
       "      <td>2015</td>\n",
       "      <td>@dumbnamenumbers @wiz_teresa don’t you just ma...</td>\n",
       "    </tr>\n",
       "    <tr>\n",
       "      <th>3</th>\n",
       "      <td>3</td>\n",
       "      <td>0utoftime</td>\n",
       "      <td>1533</td>\n",
       "      <td>668476559062364160</td>\n",
       "      <td>Sun</td>\n",
       "      <td>Nov</td>\n",
       "      <td>22</td>\n",
       "      <td>17</td>\n",
       "      <td>10</td>\n",
       "      <td>6</td>\n",
       "      <td>0</td>\n",
       "      <td>2015</td>\n",
       "      <td>RT @confreaks: New Video! @RubyConf #rubyconf ...</td>\n",
       "    </tr>\n",
       "    <tr>\n",
       "      <th>4</th>\n",
       "      <td>4</td>\n",
       "      <td>0utoftime</td>\n",
       "      <td>1533</td>\n",
       "      <td>667735237498183680</td>\n",
       "      <td>Fri</td>\n",
       "      <td>Nov</td>\n",
       "      <td>20</td>\n",
       "      <td>16</td>\n",
       "      <td>4</td>\n",
       "      <td>21</td>\n",
       "      <td>0</td>\n",
       "      <td>2015</td>\n",
       "      <td>@wiz_teresa http://pbs.twimg.com/media/CURFqBQ...</td>\n",
       "    </tr>\n",
       "  </tbody>\n",
       "</table>\n",
       "</div>"
      ],
      "text/plain": [
       "   tweetcount_by_all_users     userid  total_tweets_by_a_user  \\\n",
       "0                        0  0utoftime                    1533   \n",
       "1                        1  0utoftime                    1533   \n",
       "2                        2  0utoftime                    1533   \n",
       "3                        3  0utoftime                    1533   \n",
       "4                        4  0utoftime                    1533   \n",
       "\n",
       "              tweetid day_of_week month  day  hour  minute  second  \\\n",
       "0  669678001865510912         Thu   Nov   26     0      44      12   \n",
       "1  669677485240541184         Thu   Nov   26     0      42       9   \n",
       "2  669224460260651008         Tue   Nov   24    18      41      59   \n",
       "3  668476559062364160         Sun   Nov   22    17      10       6   \n",
       "4  667735237498183680         Fri   Nov   20    16       4      21   \n",
       "\n",
       "   time_correction  year                                              tweet  \n",
       "0                0  2015  @danielhberger or john oliver now that obama h...  \n",
       "1                0  2015        @wiz_teresa international phonetic alphabet  \n",
       "2                0  2015  @dumbnamenumbers @wiz_teresa don’t you just ma...  \n",
       "3                0  2015  RT @confreaks: New Video! @RubyConf #rubyconf ...  \n",
       "4                0  2015  @wiz_teresa http://pbs.twimg.com/media/CURFqBQ...  "
      ]
     },
     "execution_count": 64,
     "metadata": {},
     "output_type": "execute_result"
    }
   ],
   "source": [
    "input_file_path = \"twitter_data.csv\"\n",
    "df_i = pd.read_csv(input_file_path)\n",
    "df_i.head()"
   ]
  },
  {
   "cell_type": "code",
   "execution_count": 65,
   "metadata": {},
   "outputs": [],
   "source": [
    "# print (df['userid'].count) # DEBUG"
   ]
  },
  {
   "cell_type": "code",
   "execution_count": 66,
   "metadata": {
    "scrolled": false
   },
   "outputs": [],
   "source": [
    "# df_i.dtypes"
   ]
  },
  {
   "cell_type": "markdown",
   "metadata": {},
   "source": [
    "#### drop unnecessary columns for this analysis"
   ]
  },
  {
   "cell_type": "code",
   "execution_count": 67,
   "metadata": {
    "scrolled": true
   },
   "outputs": [
    {
     "data": {
      "text/html": [
       "<div>\n",
       "<style scoped>\n",
       "    .dataframe tbody tr th:only-of-type {\n",
       "        vertical-align: middle;\n",
       "    }\n",
       "\n",
       "    .dataframe tbody tr th {\n",
       "        vertical-align: top;\n",
       "    }\n",
       "\n",
       "    .dataframe thead th {\n",
       "        text-align: right;\n",
       "    }\n",
       "</style>\n",
       "<table border=\"1\" class=\"dataframe\">\n",
       "  <thead>\n",
       "    <tr style=\"text-align: right;\">\n",
       "      <th></th>\n",
       "      <th>tweetcount_by_all_users</th>\n",
       "      <th>userid</th>\n",
       "      <th>total_tweets_by_a_user</th>\n",
       "      <th>day_of_week</th>\n",
       "      <th>hour</th>\n",
       "    </tr>\n",
       "  </thead>\n",
       "  <tbody>\n",
       "    <tr>\n",
       "      <th>0</th>\n",
       "      <td>0</td>\n",
       "      <td>0utoftime</td>\n",
       "      <td>1533</td>\n",
       "      <td>Thu</td>\n",
       "      <td>0</td>\n",
       "    </tr>\n",
       "    <tr>\n",
       "      <th>1</th>\n",
       "      <td>1</td>\n",
       "      <td>0utoftime</td>\n",
       "      <td>1533</td>\n",
       "      <td>Thu</td>\n",
       "      <td>0</td>\n",
       "    </tr>\n",
       "    <tr>\n",
       "      <th>2</th>\n",
       "      <td>2</td>\n",
       "      <td>0utoftime</td>\n",
       "      <td>1533</td>\n",
       "      <td>Tue</td>\n",
       "      <td>18</td>\n",
       "    </tr>\n",
       "    <tr>\n",
       "      <th>3</th>\n",
       "      <td>3</td>\n",
       "      <td>0utoftime</td>\n",
       "      <td>1533</td>\n",
       "      <td>Sun</td>\n",
       "      <td>17</td>\n",
       "    </tr>\n",
       "    <tr>\n",
       "      <th>4</th>\n",
       "      <td>4</td>\n",
       "      <td>0utoftime</td>\n",
       "      <td>1533</td>\n",
       "      <td>Fri</td>\n",
       "      <td>16</td>\n",
       "    </tr>\n",
       "  </tbody>\n",
       "</table>\n",
       "</div>"
      ],
      "text/plain": [
       "   tweetcount_by_all_users     userid  total_tweets_by_a_user day_of_week  \\\n",
       "0                        0  0utoftime                    1533         Thu   \n",
       "1                        1  0utoftime                    1533         Thu   \n",
       "2                        2  0utoftime                    1533         Tue   \n",
       "3                        3  0utoftime                    1533         Sun   \n",
       "4                        4  0utoftime                    1533         Fri   \n",
       "\n",
       "   hour  \n",
       "0     0  \n",
       "1     0  \n",
       "2    18  \n",
       "3    17  \n",
       "4    16  "
      ]
     },
     "execution_count": 67,
     "metadata": {},
     "output_type": "execute_result"
    }
   ],
   "source": [
    "df_i.drop(['tweetid', 'month', 'day', 'minute', 'second', 'time_correction', 'year', 'tweet'], axis=1, inplace=True)\n",
    "df_i.head()"
   ]
  },
  {
   "cell_type": "markdown",
   "metadata": {},
   "source": [
    "### Finiding Unique userids and creating a new output dataframe"
   ]
  },
  {
   "cell_type": "code",
   "execution_count": 68,
   "metadata": {
    "scrolled": true
   },
   "outputs": [
    {
     "name": "stdout",
     "output_type": "stream",
     "text": [
      "Index(['tweetcount_by_all_users', 'userid', 'total_tweets_by_a_user',\n",
      "       'day_of_week', 'hour'],\n",
      "      dtype='object')\n"
     ]
    },
    {
     "data": {
      "text/html": [
       "<div>\n",
       "<style scoped>\n",
       "    .dataframe tbody tr th:only-of-type {\n",
       "        vertical-align: middle;\n",
       "    }\n",
       "\n",
       "    .dataframe tbody tr th {\n",
       "        vertical-align: top;\n",
       "    }\n",
       "\n",
       "    .dataframe thead th {\n",
       "        text-align: right;\n",
       "    }\n",
       "</style>\n",
       "<table border=\"1\" class=\"dataframe\">\n",
       "  <thead>\n",
       "    <tr style=\"text-align: right;\">\n",
       "      <th></th>\n",
       "      <th>tweetcount_by_all_users</th>\n",
       "      <th>userid</th>\n",
       "      <th>total_tweets_by_a_user</th>\n",
       "      <th>day_of_week</th>\n",
       "      <th>hour</th>\n",
       "    </tr>\n",
       "  </thead>\n",
       "  <tbody>\n",
       "    <tr>\n",
       "      <th>0</th>\n",
       "      <td>0</td>\n",
       "      <td>0utoftime</td>\n",
       "      <td>1533</td>\n",
       "      <td>Thu</td>\n",
       "      <td>0</td>\n",
       "    </tr>\n",
       "    <tr>\n",
       "      <th>1</th>\n",
       "      <td>1</td>\n",
       "      <td>0utoftime</td>\n",
       "      <td>1533</td>\n",
       "      <td>Thu</td>\n",
       "      <td>0</td>\n",
       "    </tr>\n",
       "    <tr>\n",
       "      <th>2</th>\n",
       "      <td>2</td>\n",
       "      <td>0utoftime</td>\n",
       "      <td>1533</td>\n",
       "      <td>Tue</td>\n",
       "      <td>18</td>\n",
       "    </tr>\n",
       "    <tr>\n",
       "      <th>3</th>\n",
       "      <td>3</td>\n",
       "      <td>0utoftime</td>\n",
       "      <td>1533</td>\n",
       "      <td>Sun</td>\n",
       "      <td>17</td>\n",
       "    </tr>\n",
       "    <tr>\n",
       "      <th>4</th>\n",
       "      <td>4</td>\n",
       "      <td>0utoftime</td>\n",
       "      <td>1533</td>\n",
       "      <td>Fri</td>\n",
       "      <td>16</td>\n",
       "    </tr>\n",
       "  </tbody>\n",
       "</table>\n",
       "</div>"
      ],
      "text/plain": [
       "   tweetcount_by_all_users     userid  total_tweets_by_a_user day_of_week  \\\n",
       "0                        0  0utoftime                    1533         Thu   \n",
       "1                        1  0utoftime                    1533         Thu   \n",
       "2                        2  0utoftime                    1533         Tue   \n",
       "3                        3  0utoftime                    1533         Sun   \n",
       "4                        4  0utoftime                    1533         Fri   \n",
       "\n",
       "   hour  \n",
       "0     0  \n",
       "1     0  \n",
       "2    18  \n",
       "3    17  \n",
       "4    16  "
      ]
     },
     "execution_count": 68,
     "metadata": {},
     "output_type": "execute_result"
    }
   ],
   "source": [
    "unique_users = df_i['userid'].unique()\n",
    "# print(len(unique_users)) # DEBUG\n",
    "print(df_i.columns) # DEBUG\n",
    "df_i.head() # DEBUG"
   ]
  },
  {
   "cell_type": "code",
   "execution_count": 69,
   "metadata": {},
   "outputs": [
    {
     "data": {
      "text/html": [
       "<div>\n",
       "<style scoped>\n",
       "    .dataframe tbody tr th:only-of-type {\n",
       "        vertical-align: middle;\n",
       "    }\n",
       "\n",
       "    .dataframe tbody tr th {\n",
       "        vertical-align: top;\n",
       "    }\n",
       "\n",
       "    .dataframe thead th {\n",
       "        text-align: right;\n",
       "    }\n",
       "</style>\n",
       "<table border=\"1\" class=\"dataframe\">\n",
       "  <thead>\n",
       "    <tr style=\"text-align: right;\">\n",
       "      <th></th>\n",
       "      <th>userid</th>\n",
       "    </tr>\n",
       "  </thead>\n",
       "  <tbody>\n",
       "    <tr>\n",
       "      <th>0</th>\n",
       "      <td>0utoftime</td>\n",
       "    </tr>\n",
       "    <tr>\n",
       "      <th>1</th>\n",
       "      <td>1LX</td>\n",
       "    </tr>\n",
       "    <tr>\n",
       "      <th>2</th>\n",
       "      <td>4chewnahdoe</td>\n",
       "    </tr>\n",
       "    <tr>\n",
       "      <th>3</th>\n",
       "      <td>4sqOvershare</td>\n",
       "    </tr>\n",
       "    <tr>\n",
       "      <th>4</th>\n",
       "      <td>909kishore</td>\n",
       "    </tr>\n",
       "  </tbody>\n",
       "</table>\n",
       "</div>"
      ],
      "text/plain": [
       "         userid\n",
       "0     0utoftime\n",
       "1           1LX\n",
       "2   4chewnahdoe\n",
       "3  4sqOvershare\n",
       "4    909kishore"
      ]
     },
     "execution_count": 69,
     "metadata": {},
     "output_type": "execute_result"
    }
   ],
   "source": [
    "df_o = pd.DataFrame(unique_users, columns=['userid'])\n",
    "df_o.head() # DEBUG"
   ]
  },
  {
   "cell_type": "code",
   "execution_count": 70,
   "metadata": {},
   "outputs": [],
   "source": [
    "# df_o.size # DEBUG"
   ]
  },
  {
   "cell_type": "markdown",
   "metadata": {},
   "source": [
    "#### creating 7 bins for time of use\n",
    "night           = 00:00 - 05:59<br>\n",
    "morning_early   = 06:00 - 08:59<br>\n",
    "morning_late    = 09:00 - 11:59<br>\n",
    "afternoon_early = 12:00 - 14:59<br>\n",
    "afternoon_late  = 15:00 - 17:59<br>\n",
    "evening_early   = 18:00 - 20:59<br>\n",
    "evening_late    = 21:00 - 23:59"
   ]
  },
  {
   "cell_type": "markdown",
   "metadata": {},
   "source": [
    "#### creating another 7 bins for day of the week\n",
    "Mon, Tue, Wed, Thu, Fri, Sat, Sun"
   ]
  },
  {
   "cell_type": "code",
   "execution_count": 71,
   "metadata": {
    "scrolled": true
   },
   "outputs": [],
   "source": [
    "df_o['total_tweets_by_a_user']=0\n",
    "df_o['day_mon']=0\n",
    "df_o['day_tue']=0\n",
    "df_o['day_wed']=0\n",
    "df_o['day_thu']=0\n",
    "df_o['day_fri']=0\n",
    "df_o['day_sat']=0\n",
    "df_o['day_sun']=0\n",
    "df_o['time_night']=0\n",
    "df_o['time_morning_early']=0\n",
    "df_o['time_morning_late']=0\n",
    "df_o['time_afternoon_early']=0\n",
    "df_o['time_afternoon_late']=0\n",
    "df_o['time_evening_early']=0\n",
    "df_o['time_evening_late']=0\n",
    "\n",
    "# df_o.head() # DEBUG\n",
    "# df_o.dtypes"
   ]
  },
  {
   "cell_type": "code",
   "execution_count": null,
   "metadata": {
    "scrolled": true
   },
   "outputs": [],
   "source": [
    "start = time.time()\n",
    "\n",
    "# idx_o = 1\n",
    "# row_o = (df_o.loc(1,axis=1))\n",
    "# print(idx_o)\n",
    "# print(row_o['userid'])\n",
    "\n",
    "# idx_o, row_o = next(df_o.iterrows())\n",
    "# print(idx_o)\n",
    "# print(row_o)\n",
    "\n",
    "# print(idx_o)\n",
    "# print(row_o)\n",
    "for idx_o, row_o in df_o.iterrows():\n",
    "    for idx_i, row_i in df_i.iterrows():\n",
    "        # as all the tweets from a single user are all together in the input csv data\n",
    "        # we can break out of the 2nd for loop to make the program efficient without loosing data\n",
    "        if row_o['userid'] == row_i['userid']:\n",
    "\n",
    "            df_o.loc[idx_o, 'total_tweets_by_a_user'] = row_i['total_tweets_by_a_user'] \n",
    "\n",
    "            if   row_i['day_of_week'].upper() == 'MON': df_o.loc[idx_o, 'day_mon'] += 1\n",
    "            elif row_i['day_of_week'].upper() == 'TUE': df_o.loc[idx_o, 'day_tue'] += 1\n",
    "            elif row_i['day_of_week'].upper() == 'WED': df_o.loc[idx_o, 'day_wed'] += 1\n",
    "            elif row_i['day_of_week'].upper() == 'THU': df_o.loc[idx_o, 'day_thu'] += 1\n",
    "            elif row_i['day_of_week'].upper() == 'FRI': df_o.loc[idx_o, 'day_fri'] += 1\n",
    "            elif row_i['day_of_week'].upper() == 'SAT': df_o.loc[idx_o, 'day_sat'] += 1\n",
    "            elif row_i['day_of_week'].upper() == 'SUN': df_o.loc[idx_o, 'day_sun'] += 1\n",
    "\n",
    "            if   row_i['hour'] >= 0 and row_i['hour'] <  6 : df_o.loc[idx_o, 'time_night'] += 1\n",
    "            elif row_i['hour'] >= 6 and row_i['hour'] <  9 : df_o.loc[idx_o, 'time_morning_early'] += 1\n",
    "            elif row_i['hour'] >= 9 and row_i['hour'] < 12 : df_o.loc[idx_o, 'time_morning_late'] += 1\n",
    "            elif row_i['hour'] >=12 and row_i['hour'] < 15 : df_o.loc[idx_o, 'time_afternoon_early'] += 1\n",
    "            elif row_i['hour'] >=15 and row_i['hour'] < 18 : df_o.loc[idx_o, 'time_afternoon_late'] += 1\n",
    "            elif row_i['hour'] >=18 and row_i['hour'] < 21 : df_o.loc[idx_o, 'time_evening_early'] += 1\n",
    "            elif row_i['hour'] >=21 and row_i['hour'] < 24 : df_o.loc[idx_o, 'time_evening_late'] += 1\n",
    "            else: print ('Time format error: ',row_i['hour'])    \n",
    "\n",
    "                \n",
    "end = time.time()\n",
    "elapsed = end - start\n",
    "print(elapsed)"
   ]
  },
  {
   "cell_type": "code",
   "execution_count": null,
   "metadata": {},
   "outputs": [],
   "source": [
    "df_o.head(5)"
   ]
  },
  {
   "cell_type": "code",
   "execution_count": null,
   "metadata": {},
   "outputs": [],
   "source": [
    "start = time.time()\n",
    "\n",
    "for idx_o, row_o in df_o.iterrows():\n",
    "    x = row_o['total_tweets_by_a_user']\n",
    "    \n",
    "    df_o.loc[idx_o, 'day_mon'] /= x\n",
    "    df_o.loc[idx_o, 'day_tue'] /= x\n",
    "    df_o.loc[idx_o, 'day_wed'] /= x\n",
    "    df_o.loc[idx_o, 'day_thu'] /= x\n",
    "    df_o.loc[idx_o, 'day_fri'] /= x\n",
    "    df_o.loc[idx_o, 'day_sat'] /= x\n",
    "    df_o.loc[idx_o, 'day_sun'] /= x\n",
    "\n",
    "    df_o.loc[idx_o, 'time_night'] /= x\n",
    "    df_o.loc[idx_o, 'time_morning_early'] /= x\n",
    "    df_o.loc[idx_o, 'time_morning_late'] /= x\n",
    "    df_o.loc[idx_o, 'time_afternoon_early'] /= x\n",
    "    df_o.loc[idx_o, 'time_afternoon_late'] /= x\n",
    "    df_o.loc[idx_o, 'time_evening_early'] /= x\n",
    "    df_o.loc[idx_o, 'time_evening_late'] /= x\n",
    "                \n",
    "end = time.time()\n",
    "elapsed = end - start\n",
    "print(elapsed)"
   ]
  },
  {
   "cell_type": "code",
   "execution_count": null,
   "metadata": {},
   "outputs": [],
   "source": [
    "df_o.head(5)"
   ]
  },
  {
   "cell_type": "markdown",
   "metadata": {},
   "source": [
    "## Output to CSV"
   ]
  },
  {
   "cell_type": "code",
   "execution_count": null,
   "metadata": {},
   "outputs": [],
   "source": [
    "output_file_path = \"twitter_user_analytics.csv\"\n",
    "\n",
    "# removing old outout file if exists\n",
    "if os.path.exists(output_file_path):\n",
    "    os.remove(output_file_path)\n",
    "\n",
    "# writing to csv\n",
    "df_o.to_csv(output_file_path, sep=',', index=True, index_label='user_count')"
   ]
  }
 ],
 "metadata": {
  "kernelspec": {
   "display_name": "Python 3",
   "language": "python",
   "name": "python3"
  },
  "language_info": {
   "codemirror_mode": {
    "name": "ipython",
    "version": 3
   },
   "file_extension": ".py",
   "mimetype": "text/x-python",
   "name": "python",
   "nbconvert_exporter": "python",
   "pygments_lexer": "ipython3",
   "version": "3.7.1"
  }
 },
 "nbformat": 4,
 "nbformat_minor": 2
}
