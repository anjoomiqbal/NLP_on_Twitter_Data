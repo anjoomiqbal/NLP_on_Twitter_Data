{
 "cells": [
  {
   "cell_type": "markdown",
   "metadata": {},
   "source": [
    "### Library Imports"
   ]
  },
  {
   "cell_type": "code",
   "execution_count": 269,
   "metadata": {},
   "outputs": [],
   "source": [
    "import pandas as pd\n",
    "import numpy as np\n",
    "import matplotlib.pyplot as plt"
   ]
  },
  {
   "cell_type": "markdown",
   "metadata": {},
   "source": [
    "### Input File"
   ]
  },
  {
   "cell_type": "code",
   "execution_count": 270,
   "metadata": {
    "scrolled": true
   },
   "outputs": [
    {
     "data": {
      "text/html": [
       "<div>\n",
       "<style scoped>\n",
       "    .dataframe tbody tr th:only-of-type {\n",
       "        vertical-align: middle;\n",
       "    }\n",
       "\n",
       "    .dataframe tbody tr th {\n",
       "        vertical-align: top;\n",
       "    }\n",
       "\n",
       "    .dataframe thead th {\n",
       "        text-align: right;\n",
       "    }\n",
       "</style>\n",
       "<table border=\"1\" class=\"dataframe\">\n",
       "  <thead>\n",
       "    <tr style=\"text-align: right;\">\n",
       "      <th></th>\n",
       "      <th>user_count</th>\n",
       "      <th>userid</th>\n",
       "      <th>total_tweets_by_a_user</th>\n",
       "      <th>day_mon</th>\n",
       "      <th>day_tue</th>\n",
       "      <th>day_wed</th>\n",
       "      <th>day_thu</th>\n",
       "      <th>day_fri</th>\n",
       "      <th>day_sat</th>\n",
       "      <th>day_sun</th>\n",
       "      <th>time_night_1</th>\n",
       "      <th>time_night_2</th>\n",
       "      <th>time_morning_1</th>\n",
       "      <th>time_morning_2</th>\n",
       "      <th>time_afternoon_1</th>\n",
       "      <th>time_afternoon_2</th>\n",
       "      <th>time_evening_1</th>\n",
       "      <th>time_evening_2</th>\n",
       "    </tr>\n",
       "  </thead>\n",
       "  <tbody>\n",
       "    <tr>\n",
       "      <th>0</th>\n",
       "      <td>0</td>\n",
       "      <td>0utoftime</td>\n",
       "      <td>1533</td>\n",
       "      <td>0.095238</td>\n",
       "      <td>0.114808</td>\n",
       "      <td>0.133725</td>\n",
       "      <td>0.151337</td>\n",
       "      <td>0.193738</td>\n",
       "      <td>0.152642</td>\n",
       "      <td>0.158513</td>\n",
       "      <td>0.290280</td>\n",
       "      <td>0.0</td>\n",
       "      <td>0.0</td>\n",
       "      <td>0.020222</td>\n",
       "      <td>0.131768</td>\n",
       "      <td>0.193738</td>\n",
       "      <td>0.184605</td>\n",
       "      <td>0.179387</td>\n",
       "    </tr>\n",
       "    <tr>\n",
       "      <th>1</th>\n",
       "      <td>1</td>\n",
       "      <td>1LX</td>\n",
       "      <td>3144</td>\n",
       "      <td>0.111641</td>\n",
       "      <td>0.125000</td>\n",
       "      <td>0.148219</td>\n",
       "      <td>0.157761</td>\n",
       "      <td>0.154262</td>\n",
       "      <td>0.171438</td>\n",
       "      <td>0.131679</td>\n",
       "      <td>0.256679</td>\n",
       "      <td>0.0</td>\n",
       "      <td>0.0</td>\n",
       "      <td>0.027036</td>\n",
       "      <td>0.093830</td>\n",
       "      <td>0.159669</td>\n",
       "      <td>0.199109</td>\n",
       "      <td>0.263677</td>\n",
       "    </tr>\n",
       "    <tr>\n",
       "      <th>2</th>\n",
       "      <td>2</td>\n",
       "      <td>4chewnahdoe</td>\n",
       "      <td>3172</td>\n",
       "      <td>0.127364</td>\n",
       "      <td>0.164880</td>\n",
       "      <td>0.141866</td>\n",
       "      <td>0.222888</td>\n",
       "      <td>0.126734</td>\n",
       "      <td>0.108764</td>\n",
       "      <td>0.107503</td>\n",
       "      <td>0.520492</td>\n",
       "      <td>0.0</td>\n",
       "      <td>0.0</td>\n",
       "      <td>0.004098</td>\n",
       "      <td>0.038462</td>\n",
       "      <td>0.171501</td>\n",
       "      <td>0.128310</td>\n",
       "      <td>0.137137</td>\n",
       "    </tr>\n",
       "    <tr>\n",
       "      <th>3</th>\n",
       "      <td>3</td>\n",
       "      <td>4sqOvershare</td>\n",
       "      <td>992</td>\n",
       "      <td>0.118952</td>\n",
       "      <td>0.107863</td>\n",
       "      <td>0.197581</td>\n",
       "      <td>0.177419</td>\n",
       "      <td>0.198589</td>\n",
       "      <td>0.133065</td>\n",
       "      <td>0.066532</td>\n",
       "      <td>0.180444</td>\n",
       "      <td>0.0</td>\n",
       "      <td>0.0</td>\n",
       "      <td>0.036290</td>\n",
       "      <td>0.225806</td>\n",
       "      <td>0.245968</td>\n",
       "      <td>0.179435</td>\n",
       "      <td>0.132056</td>\n",
       "    </tr>\n",
       "    <tr>\n",
       "      <th>4</th>\n",
       "      <td>4</td>\n",
       "      <td>909kishore</td>\n",
       "      <td>922</td>\n",
       "      <td>0.113883</td>\n",
       "      <td>0.164859</td>\n",
       "      <td>0.180043</td>\n",
       "      <td>0.191974</td>\n",
       "      <td>0.181128</td>\n",
       "      <td>0.098698</td>\n",
       "      <td>0.069414</td>\n",
       "      <td>0.305857</td>\n",
       "      <td>0.0</td>\n",
       "      <td>0.0</td>\n",
       "      <td>0.009761</td>\n",
       "      <td>0.073753</td>\n",
       "      <td>0.260304</td>\n",
       "      <td>0.203905</td>\n",
       "      <td>0.146421</td>\n",
       "    </tr>\n",
       "  </tbody>\n",
       "</table>\n",
       "</div>"
      ],
      "text/plain": [
       "   user_count        userid  total_tweets_by_a_user   day_mon   day_tue  \\\n",
       "0           0     0utoftime                    1533  0.095238  0.114808   \n",
       "1           1           1LX                    3144  0.111641  0.125000   \n",
       "2           2   4chewnahdoe                    3172  0.127364  0.164880   \n",
       "3           3  4sqOvershare                     992  0.118952  0.107863   \n",
       "4           4    909kishore                     922  0.113883  0.164859   \n",
       "\n",
       "    day_wed   day_thu   day_fri   day_sat   day_sun  time_night_1  \\\n",
       "0  0.133725  0.151337  0.193738  0.152642  0.158513      0.290280   \n",
       "1  0.148219  0.157761  0.154262  0.171438  0.131679      0.256679   \n",
       "2  0.141866  0.222888  0.126734  0.108764  0.107503      0.520492   \n",
       "3  0.197581  0.177419  0.198589  0.133065  0.066532      0.180444   \n",
       "4  0.180043  0.191974  0.181128  0.098698  0.069414      0.305857   \n",
       "\n",
       "   time_night_2  time_morning_1  time_morning_2  time_afternoon_1  \\\n",
       "0           0.0             0.0        0.020222          0.131768   \n",
       "1           0.0             0.0        0.027036          0.093830   \n",
       "2           0.0             0.0        0.004098          0.038462   \n",
       "3           0.0             0.0        0.036290          0.225806   \n",
       "4           0.0             0.0        0.009761          0.073753   \n",
       "\n",
       "   time_afternoon_2  time_evening_1  time_evening_2  \n",
       "0          0.193738        0.184605        0.179387  \n",
       "1          0.159669        0.199109        0.263677  \n",
       "2          0.171501        0.128310        0.137137  \n",
       "3          0.245968        0.179435        0.132056  \n",
       "4          0.260304        0.203905        0.146421  "
      ]
     },
     "execution_count": 270,
     "metadata": {},
     "output_type": "execute_result"
    }
   ],
   "source": [
    "input_file_path = \"twitter_user_analytics_normalized.csv\"\n",
    "df_i = pd.read_csv(input_file_path)\n",
    "df_i.head() # DEBUG"
   ]
  },
  {
   "cell_type": "markdown",
   "metadata": {},
   "source": [
    "#### Selecting data of one specific user"
   ]
  },
  {
   "cell_type": "code",
   "execution_count": 271,
   "metadata": {
    "scrolled": true
   },
   "outputs": [],
   "source": [
    "df = df_i.iloc[0]\n",
    "# print(df) # DEBUG"
   ]
  },
  {
   "cell_type": "markdown",
   "metadata": {},
   "source": [
    "#### Extracting the userid of the selected user"
   ]
  },
  {
   "cell_type": "code",
   "execution_count": 272,
   "metadata": {},
   "outputs": [],
   "source": [
    "userid = df['userid']\n",
    "# print(userid) # DEBUG"
   ]
  },
  {
   "cell_type": "markdown",
   "metadata": {},
   "source": [
    "#### Dropping unnecessary data"
   ]
  },
  {
   "cell_type": "code",
   "execution_count": 273,
   "metadata": {},
   "outputs": [],
   "source": [
    "df.drop(['user_count', 'userid', 'total_tweets_by_a_user'], axis=0, inplace=True)\n",
    "# df.head() # DEBUG"
   ]
  },
  {
   "cell_type": "markdown",
   "metadata": {},
   "source": [
    "#### Getting the numerical values and converting them to percentage"
   ]
  },
  {
   "cell_type": "code",
   "execution_count": 274,
   "metadata": {},
   "outputs": [],
   "source": [
    "df = df.values\n",
    "df = df*100\n",
    "# print(df) # DEBUG"
   ]
  },
  {
   "cell_type": "markdown",
   "metadata": {},
   "source": [
    "#### Split the data for 'Twitter usage in different days of weeks' and 'Twitter usage at different times of the day'"
   ]
  },
  {
   "cell_type": "code",
   "execution_count": 275,
   "metadata": {},
   "outputs": [],
   "source": [
    "y_days = df[0:7]\n",
    "y_time = df[7:]\n",
    "# print(x_days) # DEBUG\n",
    "# print(x_time) # DEBUG"
   ]
  },
  {
   "cell_type": "markdown",
   "metadata": {},
   "source": [
    "### Plotting the 'Twitter usage (%) in different days of weeks for 1 user'"
   ]
  },
  {
   "cell_type": "code",
   "execution_count": 276,
   "metadata": {},
   "outputs": [
    {
     "data": {
      "text/plain": [
       "Text(0.5, 1.0, 'userid: 0utoftime')"
      ]
     },
     "execution_count": 276,
     "metadata": {},
     "output_type": "execute_result"
    },
    {
     "data": {
      "image/png": "[encoded data removed]",
      "text/plain": [
       "<Figure size 432x288 with 1 Axes>"
      ]
     },
     "metadata": {
      "needs_background": "light"
     },
     "output_type": "display_data"
    }
   ],
   "source": [
    "days_labels = ['Mon', 'Tue', 'Wed', 'Thu', 'Fri', 'Sat', 'Sun']\n",
    "plt.bar(days_labels, y_days)\n",
    "plt.ylabel('Percentage Tweet on days of the week of a user')\n",
    "t = 'userid: ' + userid\n",
    "plt.title(t)"
   ]
  },
  {
   "cell_type": "markdown",
   "metadata": {},
   "source": [
    "### Plotting the 'Twitter usage (%) at different times of the day for 1 user'"
   ]
  },
  {
   "cell_type": "code",
   "execution_count": 277,
   "metadata": {},
   "outputs": [
    {
     "data": {
      "text/plain": [
       "Text(0.5, 1.0, 'userid: 0utoftime')"
      ]
     },
     "execution_count": 277,
     "metadata": {},
     "output_type": "execute_result"
    },
    {
     "data": {
      "image/png": "[encoded data removed]",
      "text/plain": [
       "<Figure size 432x288 with 1 Axes>"
      ]
     },
     "metadata": {
      "needs_background": "light"
     },
     "output_type": "display_data"
    }
   ],
   "source": [
    "hours_labels = ['00:00 - 02:59', '03:00 - 05:59', '06:00 - 08:59', '09:00 - 11:59', '12:00 - 14:59', '15:00 - 17:59', '18:00 - 22:59', '21:00 - 23:59']\n",
    "plt.bar(hours_labels, y_time)\n",
    "plt.xticks(rotation=90)\n",
    "plt.ylabel('Percentage Tweet differnt time of a day of a user')\n",
    "t = 'userid: ' + userid\n",
    "plt.title(t)"
   ]
  },
  {
   "cell_type": "code",
   "execution_count": null,
   "metadata": {},
   "outputs": [],
   "source": []
  }
 ],
 "metadata": {
  "kernelspec": {
   "display_name": "Python 3",
   "language": "python",
   "name": "python3"
  },
  "language_info": {
   "codemirror_mode": {
    "name": "ipython",
    "version": 3
   },
   "file_extension": ".py",
   "mimetype": "text/x-python",
   "name": "python",
   "nbconvert_exporter": "python",
   "pygments_lexer": "ipython3",
   "version": "3.7.1"
  }
 },
 "nbformat": 4,
 "nbformat_minor": 2
}
